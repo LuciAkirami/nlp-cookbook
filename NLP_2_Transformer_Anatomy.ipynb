{
  "nbformat": 4,
  "nbformat_minor": 0,
  "metadata": {
    "colab": {
      "provenance": [],
      "gpuType": "T4",
      "authorship_tag": "ABX9TyPOiOIG73K9fr9MtUyqYV23",
      "include_colab_link": true
    },
    "kernelspec": {
      "name": "python3",
      "display_name": "Python 3"
    },
    "language_info": {
      "name": "python"
    },
    "accelerator": "GPU"
  },
  "cells": [
    {
      "cell_type": "markdown",
      "metadata": {
        "id": "view-in-github",
        "colab_type": "text"
      },
      "source": [
        "<a href=\"https://colab.research.google.com/github/LuciAkirami/nlp-cookbook/blob/main/NLP_2_Transformer_Anatomy.ipynb\" target=\"_parent\"><img src=\"https://colab.research.google.com/assets/colab-badge.svg\" alt=\"Open In Colab\"/></a>"
      ]
    },
    {
      "cell_type": "code",
      "execution_count": 1,
      "metadata": {
        "id": "HhpvXGFAVyse"
      },
      "outputs": [],
      "source": [
        "!pip install transformers[torch] datasets huggingface_hub umap-learn > /dev/null"
      ]
    },
    {
      "cell_type": "code",
      "source": [],
      "metadata": {
        "id": "-_wa-w4-XqDn"
      },
      "execution_count": null,
      "outputs": []
    }
  ]
}